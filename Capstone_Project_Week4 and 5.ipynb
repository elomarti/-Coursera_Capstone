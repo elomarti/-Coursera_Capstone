{
 "cells": [
  {
   "cell_type": "markdown",
   "metadata": {},
   "source": [
    "## 1) Introduction/Business Problem"
   ]
  },
  {
   "cell_type": "markdown",
   "metadata": {},
   "source": [
    "NYC, Paris and Toronto are are three major cities in the world (two of them are also very dear to my heart). \n",
    "All of those cities are financial financial as well as cultural centers of their countries.\n",
    "\n",
    "Introduction about those cities: \n",
    "\n",
    "__Paris__: Paris is the capital and most populous city of France, with a population of 2,140,526 residents (official estimate, 1 January 2019) in an area of 105 square kilometres (41 square miles).\n",
    "Since the 17th century, Paris has been one of Europe's major centres of finance, diplomacy, commerce, fashion, science and the arts.\n",
    "(source : https://en.wikipedia.org/wiki/Paris)\n",
    "\n",
    "__New York City__: New York City (NYC), also known as the City of New York or simply New York (NY), is the most populous city in the United States. With an estimated 2018 population of 8,398,748 distributed over a land area of about 302.6 square miles (784 km2), New York is also the most densely populated major city in the United States. New York City has been described as the cultural, financial, and media capital of the world, and exerts a significant impact upon commerce, entertainment, research, technology, education, politics, tourism, art, fashion, and sports. \n",
    "(source:https://en.wikipedia.org/wiki/New_York_City)\n",
    "\n",
    "__Toronto__: Toronto is the provincial capital of Ontario and the most populous city in Canada, with a population of 2,731,571 as of 2016. Current to 2016, the Toronto census metropolitan area (CMA), of which the majority is within the Greater Toronto Area (GTA), held a population of 5,928,040, making it Canada's most populous CMA.\n",
    "Toronto is an international centre of business, finance, arts, and culture, and is recognized as one of the most multicultural and cosmopolitan cities in the world.\n",
    "(source: https://en.wikipedia.org/wiki/Toronto)\n",
    "\n",
    "#### Objective\n",
    "\n",
    "The objective of this project is to determine which city might be more appropriate for someone based on its preferences (whether they are into art, food, going out late at night...). \n",
    "In order to do so, we will segment cities in areas and use machine learning clustering algorithms to determine the following: \n",
    "\n",
    "- The similarity or dissimilarirty between the three cities\n",
    "- Classification of areas for each city: is it a residential area, is it a cultural area, is it a nightlife area..."
   ]
  },
  {
   "cell_type": "markdown",
   "metadata": {},
   "source": [
    "## 2) Data\n",
    "\n",
    "For this project,  I will use the following data sources:\n",
    "\n",
    "1. Toronto's neighborhoods data obtained from Week 3 of this course\n",
    "2. New York's neighborhoods data obtained in the Lab project of Week 3\n",
    "3. Paris neighborhoods data obtained from the Wikipedia page (https://en.wikipedia.org/wiki/Arrondissements_of_Paris) and we will use the geocoder package to get the coordinates of each postal code. It has to be noted that, in Paris, there are no boroughs, only neighborhoods which are called \"Arrondissements\" in french. As such, the \"Borough\" data will be added to the data set by copying the name of the neighborhood. Also, the postcodes are easily derived from the table in the Wikipedia page as the postcodes of each _arrondissement_ is constructed as follows: \n",
    "    - if the _arrondissement_ is number only one number: '7500' + number of the _arrondissement_\n",
    "    - if the _arrondissement_ is number is made of two numbers: '750' + number of the _arrondissement_"
   ]
  },
  {
   "cell_type": "markdown",
   "metadata": {},
   "source": [
    "## 3) Methodology"
   ]
  },
  {
   "cell_type": "markdown",
   "metadata": {},
   "source": [
    "In this project, I will use the basic methodology as taught in Week 3 lab.\n",
    "\n",
    "Data for paris was used as mentioned in the previous section (coordinates were downloaded in a separate csv file). \n",
    "Then I used the Foursquare API to explore neighborhoods in the three cities: NYC (reduced to the borough of Manhattan), Toronto and Paris. \n",
    "After that, I used explore function that we created in week 3 of the lab to get the most common venue categories in each neighborhood.\n",
    "Then, I used the silhouette methodology to assess what the appropriate k would be for each data set when using the k-mean algorithm to cluster data.\n",
    "I aslo used the Folium library to visualize the neighborhoods in NYC, Toronto and Paris."
   ]
  },
  {
   "cell_type": "markdown",
   "metadata": {},
   "source": [
    "## 4) Results"
   ]
  },
  {
   "cell_type": "markdown",
   "metadata": {},
   "source": [
    "__Results can be interpreted as follows:__\n",
    "\n",
    "*NYC Clusters:*  \n",
    "Cluster number 1: Italian Mexican Restaurants  \n",
    "Cluster number 2: Italian Restaurants  \n",
    "Cluster number 3: Mexican Restaurants and Bakeries  \n",
    "Cluster number 4: Parks and Bookstores (the Zen Neighborhood)  \n",
    "\n",
    "*Toronto Clusters:*  \n",
    "Cluster number 1: Coffee shops and Cafes (student neighborhood)  \n",
    "Cluster number 2: Parks, Playgrounds and Yoga Studios (young parent's neighborhood)  \n",
    "Cluster number 3: Baseball Fields and Yoga Studios (active neighborhood)  \n",
    "Cluster number 4: Garden (the green neighborhood)  \n",
    "\n",
    "*Paris Clusters:*  \n",
    "Cluster number 1: French Restaurants and Hotels (tourist neighborhood)  \n",
    "Cluster number 2: French Restaurants and Bars (party neighborhood)  \n",
    "Cluster number 3: Bakery (morning neighborhood).  \n",
    "\n",
    "Similarity between the cities:  \n",
    "- Based on this analysis, NYC and Paris are very food-oriented\n",
    "- Toronto and NYC seemed to be green cities as parks are common venues for both. \n",
    "\n",
    "Differences between the three cities:\n",
    "- Also hotels are more present in the most common venues in Paris compared to Toronto and NYC (which is in line with some recent rankings https://www.cnn.com/travel/article/most-visited-cities-euromonitor-2019/index.html where Paris appears to be before NYC (only two ranks above) and way above Toronto which did not make the list). \n",
    "- Even if NYC and Paris are both very food oriented, it has to be noted that food in NYC is more diverse. In Paris, most common venues are French Restaurants.\n",
    "- Bars are more common venues in Paris compared to Toronto and NYC\n"
   ]
  },
  {
   "cell_type": "markdown",
   "metadata": {},
   "source": [
    "## 5) Discussion"
   ]
  },
  {
   "cell_type": "markdown",
   "metadata": {},
   "source": [
    "One of the hardest part of this project was to determine the right k to be used in the k-mean algorithm. \n",
    "At first, I tried to use the shoulder methodology but this did not work as expected for the given datasets. \n",
    "\n",
    "As such, I decided to use the silhouette score methodology which consists in identifying the peaks in the graph and then chose the appropriate k. \n",
    "\n",
    "Using this methodology, I decided to use the following ks: 4 for NYC and Toronto and 3 for Paris. \n",
    "\n",
    "It has to be noted that choosing the right k was not only based on the peaks in the graph but also on the reasonableness. Meaning that, for example, for  Paris, I could have chosen a higher k but I had to take into account that there are only 20 neighborhoods in Paris. \n",
    "As such, I chose the smallest number I found. Same goes for the other two cities. \n",
    "\n",
    "Had I chosen to look at NYC overall and not just the borough of Manhattan, I would probably have chosen a higher k than 4 if the peaks were the same."
   ]
  },
  {
   "cell_type": "markdown",
   "metadata": {},
   "source": [
    "## 6) Conclusion"
   ]
  },
  {
   "cell_type": "markdown",
   "metadata": {},
   "source": [
    "In this study, I analyzed similarity and differences between three cities: NYC (reduced to the Borough of Manhattan), Toronto and Paris.\n",
    "I built a classification model to predict cluster neighborhoods in those three cities in order to make it easy to compare those based on venues (as referenced and detailed in Foursquare)\n",
    "These models can be useful in helping someone decide which city would be the better fit for them based on personal tests.\n",
    "For example, if you are into French food, you'd better live in Paris (that was kind of expected but one never knows...). \n",
    "If you like international cuisine, and Italian food particularly, you'd better go live in NYC. \n",
    "And if you are into coffee shops, move to Toronto!\n"
   ]
  }
 ],
 "metadata": {
  "kernelspec": {
   "display_name": "Python",
   "language": "python",
   "name": "conda-env-python-py"
  },
  "language_info": {
   "codemirror_mode": {
    "name": "ipython",
    "version": 3
   },
   "file_extension": ".py",
   "mimetype": "text/x-python",
   "name": "python",
   "nbconvert_exporter": "python",
   "pygments_lexer": "ipython3",
   "version": "3.6.7"
  }
 },
 "nbformat": 4,
 "nbformat_minor": 4
}
