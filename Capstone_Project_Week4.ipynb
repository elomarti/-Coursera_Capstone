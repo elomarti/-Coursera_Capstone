{
 "cells": [
  {
   "cell_type": "markdown",
   "metadata": {},
   "source": [
    "## 1) Introduction/Business Problem"
   ]
  },
  {
   "cell_type": "markdown",
   "metadata": {},
   "source": [
    "NYC, Paris and Toronto are are three major cities in the world (two of them are also very dear to my heart). \n",
    "All of those cities are financial financial as well as cultural centers of their countries.\n",
    "\n",
    "Introduction about those cities: \n",
    "\n",
    "__Paris__: Paris is the capital and most populous city of France, with a population of 2,140,526 residents (official estimate, 1 January 2019) in an area of 105 square kilometres (41 square miles).\n",
    "Since the 17th century, Paris has been one of Europe's major centres of finance, diplomacy, commerce, fashion, science and the arts.\n",
    "(source : https://en.wikipedia.org/wiki/Paris)\n",
    "\n",
    "__New York City__: New York City (NYC), also known as the City of New York or simply New York (NY), is the most populous city in the United States. With an estimated 2018 population of 8,398,748 distributed over a land area of about 302.6 square miles (784 km2), New York is also the most densely populated major city in the United States. New York City has been described as the cultural, financial, and media capital of the world, and exerts a significant impact upon commerce, entertainment, research, technology, education, politics, tourism, art, fashion, and sports. \n",
    "(source:https://en.wikipedia.org/wiki/New_York_City)\n",
    "\n",
    "__Toronto__: Toronto is the provincial capital of Ontario and the most populous city in Canada, with a population of 2,731,571 as of 2016. Current to 2016, the Toronto census metropolitan area (CMA), of which the majority is within the Greater Toronto Area (GTA), held a population of 5,928,040, making it Canada's most populous CMA.\n",
    "Toronto is an international centre of business, finance, arts, and culture, and is recognized as one of the most multicultural and cosmopolitan cities in the world.\n",
    "(source: https://en.wikipedia.org/wiki/Toronto)\n",
    "\n",
    "#### Objective\n",
    "\n",
    "The objective of this project is to determine which city might be more appropriate for someone based on its preferences (whether they are into art, food, going out late at night...). \n",
    "In order to do so, we will segment cities in areas and use machine learning clustering algorithms to determine the following: \n",
    "\n",
    "- The similarity or dissimilarirty between the three cities\n",
    "- Classification of areas for each city: is it a residential area, is it a cultural area, is it a nightlife area..."
   ]
  },
  {
   "cell_type": "markdown",
   "metadata": {},
   "source": [
    "## 2) Data\n",
    "\n",
    "For this project,  I will use the following data sources:\n",
    "\n",
    "1. Toronto's neighborhoods data obtained from Week 3 of this course\n",
    "2. New York's neighborhoods data obtained in the Lab project of Week 3\n",
    "3. Paris neighborhoods data obtained from the Wikipedia page (https://en.wikipedia.org/wiki/Arrondissements_of_Paris)and we will use the geocoder package to get the coordinates of each postal code. It has to be noted that, in Paris, there are no boroughs, only neighborhoods which are called \"Arrondissements\" in french. As such, the \"Borough\" data will be added to the data set by copying the name of the neighborhood. Also, the postcodes are easily derived from the table in the Wikipedia page as the postcodes of each _arrondissement_ is constructed as follows: \n",
    "    - if the _arrondissement_ is number only one number: '7500' + number of the _arrondissement_\n",
    "    - if the _arrondissement_ is number is made of two numbers: '750' + number of the _arrondissement_"
   ]
  },
  {
   "cell_type": "code",
   "execution_count": null,
   "metadata": {},
   "outputs": [],
   "source": []
  }
 ],
 "metadata": {
  "kernelspec": {
   "display_name": "Python",
   "language": "python",
   "name": "conda-env-python-py"
  },
  "language_info": {
   "codemirror_mode": {
    "name": "ipython",
    "version": 3
   },
   "file_extension": ".py",
   "mimetype": "text/x-python",
   "name": "python",
   "nbconvert_exporter": "python",
   "pygments_lexer": "ipython3",
   "version": "3.6.7"
  }
 },
 "nbformat": 4,
 "nbformat_minor": 4
}
